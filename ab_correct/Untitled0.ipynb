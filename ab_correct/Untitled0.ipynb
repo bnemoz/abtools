{
 "metadata": {
  "name": "",
  "signature": "sha256:0988ce9bb2fc203e8ed0ed1ac9a9645588be0bfaa9aef40992cde3d6e9d62307"
 },
 "nbformat": 3,
 "nbformat_minor": 0,
 "worksheets": [
  {
   "cells": [
    {
     "cell_type": "code",
     "collapsed": false,
     "input": [
      "%matplotlib inline\n",
      "\n",
      "import numpy as np\n",
      "import seaborn as sns\n",
      "import matplotlib.pyplot as plt\n",
      "\n",
      "sns.set(rc={\"figure.figsize\": (6, 6)})"
     ],
     "language": "python",
     "metadata": {},
     "outputs": [],
     "prompt_number": 13
    },
    {
     "cell_type": "code",
     "collapsed": false,
     "input": [
      "sns.palplot(sns.hls_palette(7))"
     ],
     "language": "python",
     "metadata": {},
     "outputs": [
      {
       "metadata": {},
       "output_type": "display_data",
       "png": "[encoded data removed]",
       "text": [
        "<matplotlib.figure.Figure at 0x1109219d0>"
       ]
      }
     ],
     "prompt_number": 10
    },
    {
     "cell_type": "code",
     "collapsed": false,
     "input": [
      "sns.set_style(\"white\")\n",
      "\n",
      "rgbs = sns.hls_palette(7)\n",
      "\n",
      "ind = np.arange(7)\n",
      "width = 0.75\n",
      "x = ['A','B','C','D','E','F', 'G']\n",
      "y = [10,12,4,2,8,1,3]\n",
      "colors = [rgbs[i] for i, j in enumerate(x)]\n",
      "\n",
      "fig = plt.figure()\n",
      "ax = fig.add_subplot(111)\n",
      "\n",
      "ax.set_ylim(0, 1.05 * max(y))\n",
      "ax.set_xlim(-width/2,len(ind))\n",
      "ax.set_xticks(ind + width/2)\n",
      "xtickNames = ax.set_xticklabels(x)\n",
      "\n",
      "bar = ax.bar(ind, y, width, color=colors)\n",
      "\n",
      "plt.show()"
     ],
     "language": "python",
     "metadata": {},
     "outputs": [
      {
       "metadata": {},
       "output_type": "display_data",
       "png": "[encoded data removed]",
       "text": [
        "<matplotlib.figure.Figure at 0x110f9c850>"
       ]
      }
     ],
     "prompt_number": 41
    },
    {
     "cell_type": "code",
     "collapsed": false,
     "input": [],
     "language": "python",
     "metadata": {},
     "outputs": []
    }
   ],
   "metadata": {}
  }
 ]
}